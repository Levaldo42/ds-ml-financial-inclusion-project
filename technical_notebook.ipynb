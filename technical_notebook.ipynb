{
 "cells": [
  {
   "cell_type": "markdown",
   "metadata": {},
   "source": [
    "# Financial inclusion in Kenya, Tanzania, Rwanda and Uganda\n",
    "Group 4: Flo, Markus and Jan"
   ]
  },
  {
   "cell_type": "code",
   "execution_count": null,
   "metadata": {},
   "outputs": [],
   "source": [
    "# Load packages\n",
    "# dataframe and plotting\n",
    "import pandas as pd\n",
    "import numpy as np\n",
    "import seaborn as sns\n",
    "import matplotlib.pyplot as plt\n",
    "\n",
    "# machine learning\n",
    "# from lightgbm import LGBMClassifier\n",
    "from sklearn.model_selection import train_test_split\n",
    "from sklearn.metrics import accuracy_score, confusion_matrix, classification_report\n",
    "from sklearn.model_selection import GridSearchCV, RandomizedSearchCV\n",
    "from sklearn.tree import DecisionTreeClassifier\n",
    "from sklearn.linear_model import LogisticRegression"
   ]
  },
  {
   "cell_type": "code",
   "execution_count": null,
   "metadata": {},
   "outputs": [],
   "source": [
    "# Load data\n",
    "df = pd.read_csv(\"Train.csv\")"
   ]
  },
  {
   "cell_type": "markdown",
   "metadata": {},
   "source": [
    "# EDA\n",
    "\n",
    "EDA was partly done in the StarterNotebook and more extensively [here](https://medium.com/analytics-vidhya/why-you-need-to-explore-your-data-how-you-can-start-13de6f29c8c1) and also in the downloadable file at the end of the article.\n",
    "\n",
    "Keypoints: No NaNs, most features are categorical, target is unbalanced (85-15). Not much cleaning is needed"
   ]
  },
  {
   "cell_type": "markdown",
   "metadata": {},
   "source": [
    "Influence of categorical features on target:"
   ]
  },
  {
   "cell_type": "code",
   "execution_count": null,
   "metadata": {},
   "outputs": [],
   "source": [
    "ctdf = df.select_dtypes(include=\"object\").drop([\"bank_account\", \"uniqueid\"], axis=1)\n",
    "ctdf_y = df.bank_account\n",
    "\n",
    "\n",
    "for column_name in ctdf.columns:\n",
    "    print(pd.crosstab(ctdf[column_name], ctdf_y, normalize=\"index\"))\n",
    "    print(\"____________\")"
   ]
  },
  {
   "cell_type": "code",
   "execution_count": null,
   "metadata": {},
   "outputs": [],
   "source": [
    "pd.crosstab(ctdf.country, ctdf.cellphone_access, normalize=\"index\")"
   ]
  },
  {
   "cell_type": "markdown",
   "metadata": {},
   "source": [
    "Keypoints:  \n",
    "People without a cellphone are very unlikely to have a bank account.    \n",
    "Differences among countries. 25% of people in Kenya have a bank account and only 8-11% of people in Rwanda, Uganda and Tanzania. \n",
    "Differences between rural and urban and between genders are present but not as prominent as expected.  \n",
    "Education level and job type have big differences between the bank account proportions.\n"
   ]
  },
  {
   "cell_type": "markdown",
   "metadata": {},
   "source": [
    "# Feature engineering\n",
    "\n",
    "We utilized different ways to treat the features like Min-Max scaling of the numerical features, random under and oversampling of the unbalanced target, using drop_first = T dummies for the categorical variables. However, we obtained the best score without those transformations. We are still applying min-max scaling to make the features comparable, because we want to identify the important features for our stakeholder.  \n",
    "Additionally, we are getting rid of the 'year' column because not all countries have been sampled in all years. There is an increased number of bank_accounts in 2018, however, this is due to the fact that Kenya was only sampled in that year."
   ]
  },
  {
   "cell_type": "code",
   "execution_count": null,
   "metadata": {},
   "outputs": [],
   "source": [
    "# Convert all non-binary categories to k categories\n",
    "cats = [\n",
    "    \"country\",\n",
    "    \"relationship_with_head\",\n",
    "    \"marital_status\",\n",
    "    \"education_level\",\n",
    "    \"job_type\",\n",
    "]\n",
    "df_dumm2 = pd.get_dummies(df, prefix_sep=\"_\", columns=cats)\n",
    "\n",
    "# Convert all binary categories to k-1 categories\n",
    "bin_cat = [\"bank_account\", \"location_type\", \"cellphone_access\", \"gender_of_respondent\"]\n",
    "df_dumm2 = pd.get_dummies(df_dumm2, prefix_sep=\"_\", columns=bin_cat, drop_first=True)\n",
    "# Drop 'uniqueid'\n",
    "df_dumm2.drop(\"uniqueid\", inplace=True, axis=1)\n",
    "\n",
    "df_dumm2.head()"
   ]
  },
  {
   "cell_type": "code",
   "execution_count": null,
   "metadata": {},
   "outputs": [],
   "source": [
    "# Train-Test-Split\n",
    "y2 = df_dumm2[[\"bank_account_Yes\"]]\n",
    "X2 = df_dumm2.drop([\"bank_account_Yes\", \"year\"], axis=1)\n",
    "\n",
    "\n",
    "from sklearn.model_selection import train_test_split\n",
    "\n",
    "X_train, X_test, y_train, y_test = train_test_split(\n",
    "    X2, y2, random_state=42, stratify=y2\n",
    ")  # Default 25% in test"
   ]
  },
  {
   "cell_type": "code",
   "execution_count": null,
   "metadata": {},
   "outputs": [],
   "source": [
    "# # Min-Max-Scaling\n",
    "from sklearn.preprocessing import MinMaxScaler\n",
    "\n",
    "scaler = MinMaxScaler()\n",
    "X_train = scaler.fit_transform(X_train)\n",
    "X_test = scaler.transform(X_test)"
   ]
  },
  {
   "cell_type": "markdown",
   "metadata": {},
   "source": [
    "# Modelling\n",
    "\n",
    "Baseline Model: Our baseline model is based on the basic assumption that people living in rural areas and with just basic education do not own a bank account."
   ]
  },
  {
   "cell_type": "code",
   "execution_count": null,
   "metadata": {},
   "outputs": [],
   "source": [
    "y_pred_baseline = []\n",
    "\n",
    "X_test_scaled_df = pd.DataFrame(\n",
    "    X_test, columns=df_dumm2.drop([\"bank_account_Yes\", \"year\"], axis=1).columns\n",
    ")\n",
    "\n",
    "for index, row in X_test_scaled_df.iterrows():\n",
    "    if (\n",
    "        row[\"location_type_Urban\"]\n",
    "        or row[\"education_level_Other/Dont know/RTA\"]\n",
    "        or row[\"education_level_Secondary education\"]\n",
    "        or row[\"education_level_Tertiary education\"]\n",
    "        or row[\"education_level_Vocational/Specialised training\"]\n",
    "    ):\n",
    "        y_pred_baseline.append(1)\n",
    "    else:\n",
    "        y_pred_baseline.append(0)\n",
    "print(confusion_matrix(y_test, y_pred_baseline))\n",
    "print(accuracy_score(y_test, y_pred_baseline))"
   ]
  },
  {
   "cell_type": "markdown",
   "metadata": {},
   "source": [
    "The baseline model is bad in predicting if a person owns a bank account or not. The accuracy is only 55% and there are a lot of false positives indicating that many people living in rural areas and with early education own a bank account. Those two features alone don't predict the target very well."
   ]
  },
  {
   "cell_type": "markdown",
   "metadata": {},
   "source": [
    "## Classification by logistic regression.  \n",
    "Our best model - determined by a GridSearch - reaches an accuracy of 88.6%"
   ]
  },
  {
   "cell_type": "code",
   "execution_count": null,
   "metadata": {},
   "outputs": [],
   "source": [
    "logmod = LogisticRegression(\n",
    "    max_iter=1000, solver=\"liblinear\", fit_intercept=True, class_weight=None, C=2\n",
    ")\n",
    "logmod.fit(X_train, y_train)\n",
    "\n",
    "y_pred = logmod.predict(X_test)\n",
    "\n",
    "print(confusion_matrix(y_test, y_pred))\n",
    "print(classification_report(y_test, y_pred))\n",
    "print(accuracy_score(y_test, y_pred))"
   ]
  },
  {
   "cell_type": "markdown",
   "metadata": {},
   "source": [
    "Parameter estimates"
   ]
  },
  {
   "cell_type": "code",
   "execution_count": null,
   "metadata": {},
   "outputs": [],
   "source": [
    "coef_df = pd.DataFrame({\"cols\": X2.columns, \"coefs\": logmod.coef_[0]})\n",
    "coef_df"
   ]
  },
  {
   "cell_type": "markdown",
   "metadata": {},
   "source": [
    "As expected from the crosstab in the EDA section the highest influence seems to be the cellphone_access, job_type, education_level, country, and also the age. There are also differences between certain levels in the marital_status and relationship_with_head features."
   ]
  },
  {
   "cell_type": "markdown",
   "metadata": {},
   "source": [
    "Heatmap of coefficients:"
   ]
  },
  {
   "cell_type": "code",
   "execution_count": null,
   "metadata": {},
   "outputs": [],
   "source": [
    "# Extract variables and estimates\n",
    "variables = coef_df.cols\n",
    "estimates = coef_df.coefs\n",
    "# Create a grid of size 1xN, where N is the number of variables\n",
    "np.array([estimates])\n",
    "\n",
    "plt.imshow(np.array([estimates]).transpose(), cmap='RdBu', aspect='auto', origin='lower')\n",
    "\n",
    "# Plot heatmap\n",
    "\n",
    "# Customize the plot\n",
    "plt.yticks(grid, variables)\n",
    "plt.xlabel('Coefficient')\n",
    "plt.ylabel('Category-level')\n",
    "plt.colorbar()\n",
    "\n",
    "# Display the plot\n",
    "plt.show()"
   ]
  },
  {
   "cell_type": "markdown",
   "metadata": {},
   "source": [
    "# Error analysis\n",
    "\n",
    "Are there certain category levels which are predicted better/worse? Using the whole data set."
   ]
  },
  {
   "cell_type": "code",
   "execution_count": null,
   "metadata": {},
   "outputs": [],
   "source": [
    "y2 = df_dumm2[[\"bank_account_Yes\"]]\n",
    "X2 = df_dumm2.drop([\"bank_account_Yes\", \"year\"], axis=1)\n",
    "X3 = scaler.fit_transform(X2)\n",
    "\n",
    "logmod_full = LogisticRegression(\n",
    "    max_iter=1000, solver=\"liblinear\", fit_intercept=True, class_weight=None, C=2\n",
    ")\n",
    "logmod_full.fit(X3, y2.values.ravel())\n",
    "\n",
    "y_pred_full = logmod_full.predict(X3)  # Accuracy of 88.53\n",
    "\n",
    "print(accuracy_score(y2, y_pred_full))\n",
    "print(confusion_matrix(y2, y_pred_full))"
   ]
  },
  {
   "cell_type": "markdown",
   "metadata": {},
   "source": [
    "Which categorie-levels have a low accuracy?"
   ]
  },
  {
   "cell_type": "code",
   "execution_count": null,
   "metadata": {},
   "outputs": [],
   "source": [
    "ea_data = df\n",
    "\n",
    "ea_data[\"bank_pred\"] = y_pred_full  # Predictions from the model\n",
    "ea_data[\"bank_account\"] = ea_data.bank_account.replace(\n",
    "    {\"Yes\": 1, \"No\": 0}\n",
    ")  # Convert Yes/No to 1/0\n",
    "ea_data[\"bank_correct\"] = (\n",
    "    ea_data[\"bank_account\"] == ea_data[\"bank_pred\"]\n",
    ")  # Checks if the prediction is correct. False are the false positives and false negatives.\n",
    "ea_data[\"bank_correct\"] = ea_data[\"bank_correct\"].astype(int)\n",
    "\n",
    "prop_df = pd.DataFrame(columns=[\"cat\", \"prop_correct\"])\n",
    "for cat in [\n",
    "    \"country\",\n",
    "    \"relationship_with_head\",\n",
    "    \"marital_status\",\n",
    "    \"education_level\",\n",
    "    \"job_type\",\n",
    "    \"location_type\",\n",
    "    \"cellphone_access\",\n",
    "    \"gender_of_respondent\",\n",
    "]:\n",
    "    # print(ea_data.groupby(cat)[\"bank_correct\"].mean().reset_index())\n",
    "    # print(\"_________\")\n",
    "    test_df = ea_data.groupby(cat)[\"bank_correct\"].mean().reset_index()\n",
    "    test_df.columns = [\"cat\", \"prop_correct\"]\n",
    "    prop_df = pd.concat([prop_df, test_df], axis=0, ignore_index=True)\n",
    "\n",
    "prop_df.sort_values(\"prop_correct\")"
   ]
  },
  {
   "cell_type": "markdown",
   "metadata": {},
   "source": [
    "Are the wrong predictions for certain category levels rather false positives or false negatives?"
   ]
  },
  {
   "cell_type": "code",
   "execution_count": null,
   "metadata": {},
   "outputs": [],
   "source": [
    "# Which category level has a high proportion of false negatives (positive number: True = 1 but predicted as 0) or false positives (negative number: True = 0 but predicted as 1)\n",
    "ea_data[\"fpfn_prop\"] = ea_data.bank_account - ea_data.bank_pred \n",
    "\n",
    "prop_df = pd.DataFrame(columns=[\"cat\", \"FPFN_proportion\"])\n",
    "for cat in [\n",
    "    \"country\",\n",
    "    \"relationship_with_head\",\n",
    "    \"marital_status\",\n",
    "    \"education_level\",\n",
    "    \"job_type\",\n",
    "    \"location_type\",\n",
    "    \"cellphone_access\",\n",
    "    \"gender_of_respondent\",\n",
    "]:\n",
    "    # print(ea_data.groupby(cat)[\"bank_correct\"].mean().reset_index())\n",
    "    # print(\"_________\")\n",
    "    test_df = ea_data.groupby(cat)[\"fpfn_prop\"].mean().reset_index()\n",
    "    test_df.columns = [\"cat\", \"FPFN_proportion\"]\n",
    "    prop_df = pd.concat([prop_df, test_df], axis=0, ignore_index=True)\n",
    "\n",
    "prop_df.sort_values(\"FPFN_proportion\")"
   ]
  },
  {
   "cell_type": "markdown",
   "metadata": {},
   "source": [
    "# Plots"
   ]
  },
  {
   "cell_type": "markdown",
   "metadata": {},
   "source": [
    "Bank Account Yes / No: "
   ]
  },
  {
   "cell_type": "code",
   "execution_count": null,
   "metadata": {},
   "outputs": [],
   "source": [
    "# value_counts = df['bank_account'].value_counts(normalize=True)\n",
    "# value_counts = value_counts.sort_values(ascending=False)\n",
    "# bars = plt.bar(value_counts.index, value_counts.values, color = [\"#009EDB\", \"white\"], edgecolor = [\"#009EDB\", \"#009EDB\"], linewidth = 3)\n",
    "# plt.xlabel('')\n",
    "# plt.ylabel('')\n",
    "# plt.title('Bank Account', weight=\"bold\")\n",
    "# plt.axis(\"off\")\n",
    "# plt.xticks(rotation=90)  # Rotate x-axis labels if needed\n",
    "# ax = plt.gca()\n",
    "# ax.spines['bottom'].set_visible(False)\n",
    "# ax.spines['left'].set_visible(False)\n",
    "# ax.spines['right'].set_visible(False)\n",
    "\n",
    "# text = [\"Yes = 86 %\", \"No = 14 %\"]\n",
    "\n",
    "# for i,bar in enumerate(bars):\n",
    "#     height = bar.get_height()\n",
    "#     plt.text(bar.get_x() + bar.get_width() / 2, height+0.01, text[i], ha='center', va='bottom', weight=\"bold\")\n",
    "\n",
    "\n",
    "# plt.show()\n",
    "\n",
    "\n",
    "value_counts = df[\"bank_account\"].value_counts(normalize=True)*100\n",
    "value_counts = value_counts.sort_values(ascending=False)\n",
    "bars = plt.bar(\n",
    "    value_counts.index,\n",
    "    value_counts.values,\n",
    "    color=[\"#009EDB\", \"#009EDB\"],\n",
    "    edgecolor=[\"#009EDB\", \"#009EDB\"],\n",
    "    linewidth=3,\n",
    ")\n",
    "\n",
    "plt.xlabel(\"\")\n",
    "plt.ylabel(\"\")\n",
    "plt.title(\"Bank Account\")\n",
    "#plt.axis(\"off\")\n",
    "plt.xticks(rotation=90)  # Rotate x-axis labels if needed\n",
    "ax = plt.gca()\n",
    "#ax.spines['bottom'].set_visible(False)\n",
    "ax.spines['left'].set_visible(False)\n",
    "ax.spines['right'].set_visible(False)\n",
    "ax.spines['top'].set_visible(False)\n",
    "plt.tick_params(axis=\"x\", bottom=False)\n",
    "plt.tick_params(axis=\"y\", bottom=False)\n",
    "plt.xticks([])\n",
    "plt.yticks([])\n",
    "\n",
    "\n",
    "text = [\"No = 86 %\", \"Yes = 14 %\"]\n",
    "for i, bar in enumerate(bars):\n",
    "    height = bar.get_height()\n",
    "    plt.text(\n",
    "        bar.get_x() + bar.get_width() / 2,\n",
    "        height + 0.01,\n",
    "        text[i],\n",
    "        ha=\"center\",\n",
    "        va=\"bottom\",\n",
    "    )\n",
    "\n",
    "x_center = np.mean(ax.get_xlim())\n",
    "plt.text(x_center, 10.5, \"Bank account baseline\", ha=\"center\", color=[0.25, 0.25, 0.25],alpha = 0.75)\n",
    "# Line\n",
    "plt.plot(ax.get_xlim(), [14.08, 14.08], color=[0.25, 0.25, 0.25], linestyle=\"--\",alpha=0.75)\n",
    "\n",
    "\n",
    "\n",
    "plt.show()"
   ]
  },
  {
   "cell_type": "code",
   "execution_count": null,
   "metadata": {},
   "outputs": [],
   "source": [
    "cellphone_props = pd.crosstab(ctdf.cellphone_access, ctdf_y, normalize=\"index\")\n",
    "cellphone_props"
   ]
  },
  {
   "cell_type": "markdown",
   "metadata": {},
   "source": [
    "Cellphone:"
   ]
  },
  {
   "cell_type": "code",
   "execution_count": null,
   "metadata": {},
   "outputs": [],
   "source": [
    "categories = [\"No cellphone\", \"Cellphone\"]  # X labels\n",
    "labels = [\"Bank account\", \"No bank account\"]  # Not relavant?\n",
    "\n",
    "fig, ax = plt.subplots(figsize=(6, 6))\n",
    "\n",
    "# Create stacked bar chart\n",
    "bottombars = plt.bar(\n",
    "    categories, [1.7, 18.4], label=labels[0], color=\"#009EDB\", edgecolor=\"#009EDB\"\n",
    ")  # Bottom bars\n",
    "plt.bar(\n",
    "    categories,\n",
    "    [98.3, 81.6],\n",
    "    label=labels[1],\n",
    "    bottom=[1.7, 18.4],\n",
    "    color=\"white\",\n",
    "    edgecolor=\"#009EDB\",\n",
    ")  # Top bars, bottom defines where they start,\n",
    "\n",
    "plt.title(\"Bank account ownership based on cellphone access\")\n",
    "\n",
    "\n",
    "# ax.set_xlabel('Cellphone access',weight =\"bold\") # xlabel\n",
    "# ax.set_xticks(x)\n",
    "ax.set_xticklabels(categories)  # x label\n",
    "plt.gca().spines[\"left\"].set_visible(False)  # getting rid of axis lines and box\n",
    "plt.gca().spines[\"right\"].set_visible(False)  # getting rid of axis lines and box\n",
    "plt.gca().spines[\"top\"].set_visible(False)  # getting rid of axis lines and box\n",
    "#plt.gca().spines[\"bottom\"].set_visible(False)  # getting rid of axis lines and box\n",
    "plt.gca().yaxis.set_visible(False)  # getting rid of axis lines and box\n",
    "#plt.tick_params(axis=\"x\", bottom=False)  # Delete axis ticks.\n",
    "\n",
    "# plt.subplots_adjust(bottom=0.2)  # Increase bottom value to create space below x-axis\n",
    "\n",
    "# Position legend horizontally in the space below x-axis\n",
    "# plt.legend(loc='upper center', bbox_to_anchor=(0.5, -0.1), frameon = False, ncol=2)\n",
    "#\n",
    "text = [\"Bank account = 1.7 %\", \"Bank account = 18.4 %\"]  # Write text in plot.\n",
    "for i, bar in enumerate(bottombars):\n",
    "    height = bar.get_height()\n",
    "    plt.text(\n",
    "        bar.get_x() + bar.get_width() / 2,\n",
    "        height + 0.015,\n",
    "        text[i],\n",
    "        ha=\"center\",\n",
    "        va=\"bottom\",\n",
    "    )\n",
    "\n",
    "\n",
    "x_center = np.mean(ax.get_xlim())\n",
    "plt.text(x_center, 10.5, \"Bank account baseline\", ha=\"center\", color=[0.25, 0.25, 0.25],alpha = 0.75)\n",
    "# Line\n",
    "plt.plot(ax.get_xlim(), [14, 14], color=[0.25, 0.25, 0.25], linestyle=\"--\",alpha = 0.75)\n",
    "\n",
    "plt.show()\n",
    "\n"
   ]
  },
  {
   "cell_type": "markdown",
   "metadata": {},
   "source": [
    "Group education for easier interpretation:"
   ]
  },
  {
   "cell_type": "code",
   "execution_count": null,
   "metadata": {},
   "outputs": [],
   "source": [
    "df[\"education_level\"].unique()\n",
    "\n",
    "mapping = {\n",
    "    \"No formal education\": \"low\",\n",
    "    \"Primary education\": \"low\",\n",
    "    \"Secondary education\": \"mid\",\n",
    "    \"Vocational/Specialised training\": \"high\",\n",
    "    \"Tertiary education\": \"high\",\n",
    "    \"Other/Dont know/RTA\": \"high\",\n",
    "}\n",
    "\n",
    "# Create a new column 'groups' by mapping the values of 'categories'\n",
    "df[\"edu_grouped\"] = df[\"education_level\"].map(mapping)"
   ]
  },
  {
   "cell_type": "code",
   "execution_count": null,
   "metadata": {},
   "outputs": [],
   "source": [
    "pd.crosstab(df.edu_grouped, df.bank_account, normalize=\"index\")"
   ]
  },
  {
   "cell_type": "markdown",
   "metadata": {},
   "source": [
    "Education level:"
   ]
  },
  {
   "cell_type": "code",
   "execution_count": null,
   "metadata": {},
   "outputs": [],
   "source": [
    "categories = [\"Low education level\", \"Medium education level\", \"High education level\"]  # X labels\n",
    "labels = [\"Bank account\", \"No bank account\"]  # Not relavant?\n",
    "\n",
    "fig, ax = plt.subplots(figsize=(9, 6))\n",
    "\n",
    "# Create stacked bar chart\n",
    "bottombars = plt.bar(\n",
    "    categories, [7,23, 53], label=labels[0], color=\"#009EDB\", edgecolor=\"#009EDB\"\n",
    ")  # Bottom bars\n",
    "plt.bar(\n",
    "    categories,\n",
    "    [93, 77, 47],\n",
    "    label=labels[1],\n",
    "    bottom=[7,23, 53],\n",
    "    color=\"white\",\n",
    "    edgecolor=\"#009EDB\",\n",
    ")  # Top bars, bottom defines where they start,\n",
    "\n",
    "plt.title(\"Bank account ownership based education level\")\n",
    "\n",
    "\n",
    "# ax.set_xlabel('Cellphone access',weight =\"bold\") # xlabel\n",
    "# ax.set_xticks(x)\n",
    "#ax.set_xticklabels(categories, weight=\"bold\")  # x label\n",
    "plt.gca().spines[\"left\"].set_visible(False)  # getting rid of axis lines and box\n",
    "plt.gca().spines[\"right\"].set_visible(False)  # getting rid of axis lines and box\n",
    "plt.gca().spines[\"top\"].set_visible(False)  # getting rid of axis lines and box\n",
    "#plt.gca().spines[\"bottom\"].set_visible(False)  # getting rid of axis lines and box\n",
    "plt.gca().yaxis.set_visible(False)  # getting rid of axis lines and box\n",
    "#plt.tick_params(axis=\"x\", bottom=False)  # Delete axis ticks.\n",
    "\n",
    "# plt.subplots_adjust(bottom=0.2)  # Increase bottom value to create space below x-axis\n",
    "\n",
    "# Position legend horizontally in the space below x-axis\n",
    "# plt.legend(loc='upper center', bbox_to_anchor=(0.5, -0.1), frameon = False, ncol=2)\n",
    "#\n",
    "text = [\"Bank account = 7 %\", \"Bank account = 23 %\", \"Bank account = 47 %\"]  # Write text in plot.\n",
    "for i, bar in enumerate(bottombars):\n",
    "    print(bar.get_x())\n",
    "    height = bar.get_height()\n",
    "    plt.text(\n",
    "        bar.get_x() + bar.get_width() / 2,\n",
    "        height + 0.015,\n",
    "        text[i],\n",
    "        ha=\"center\",\n",
    "        va=\"bottom\",\n",
    "    )\n",
    "\n",
    "\n",
    "x_center2 = np.mean(ax.get_xlim())\n",
    "plt.text(1, 10.5, \"Bank account baseline\", ha=\"center\", color=[0.25, 0.25, 0.25],alpha = 0.75)\n",
    "# Line\n",
    "plt.plot((-0.49, 2.5), [14, 14], color=[0.25, 0.25, 0.25], linestyle=\"--\",alpha = 0.75)\n",
    "\n",
    "plt.show()\n",
    "\n",
    "print(ax.get_xlim())"
   ]
  },
  {
   "cell_type": "markdown",
   "metadata": {},
   "source": [
    "Job:  \n",
    "Show just the most mean-deviating job types. Top2 each to stick to the minimal look."
   ]
  },
  {
   "cell_type": "code",
   "execution_count": null,
   "metadata": {},
   "outputs": [],
   "source": [
    "categories = [\"No income\", \"Informally employed\", \"Formally employed private\", \"Formally employed government\"]  # X labels\n",
    "labels = [\"Bank account\", \"No bank account\"]  # Not relavant?\n",
    "\n",
    "fig, ax = plt.subplots(figsize=(12, 6))\n",
    "\n",
    "# Create stacked bar chart\n",
    "bottombars = plt.bar(\n",
    "    categories, [2,8, 54, 78], label=labels[0], color=\"#009EDB\", edgecolor=\"#009EDB\"\n",
    ")  # Bottom bars\n",
    "plt.bar(\n",
    "    categories,\n",
    "    [98, 92,46,22 ],\n",
    "    label=labels[1],\n",
    "    bottom=[2,8, 54, 78],\n",
    "    color=\"white\",\n",
    "    edgecolor=\"#009EDB\",\n",
    ")  # Top bars, bottom defines where they start,\n",
    "\n",
    "plt.title(\"Bank account ownership based job type\")\n",
    "\n",
    "\n",
    "# ax.set_xlabel('Cellphone access',weight =\"bold\") # xlabel\n",
    "# ax.set_xticks(x)\n",
    "#ax.set_xticklabels(categories, weight=\"bold\")  # x label\n",
    "plt.gca().spines[\"left\"].set_visible(False)  # getting rid of axis lines and box\n",
    "plt.gca().spines[\"right\"].set_visible(False)  # getting rid of axis lines and box\n",
    "plt.gca().spines[\"top\"].set_visible(False)  # getting rid of axis lines and box\n",
    "#plt.gca().spines[\"bottom\"].set_visible(False)  # getting rid of axis lines and box\n",
    "plt.gca().yaxis.set_visible(False)  # getting rid of axis lines and box\n",
    "#plt.tick_params(axis=\"x\", bottom=False)  # Delete axis ticks.\n",
    "\n",
    "# plt.subplots_adjust(bottom=0.2)  # Increase bottom value to create space below x-axis\n",
    "\n",
    "# Position legend horizontally in the space below x-axis\n",
    "# plt.legend(loc='upper center', bbox_to_anchor=(0.5, -0.1), frameon = False, ncol=2)\n",
    "#\n",
    "text = [\"Bank account = 2 %\", \"Bank account = 12 %\", \"Bank account = 54 %\", \"Bank account = 78 %\"]  # Write text in plot.\n",
    "for i, bar in enumerate(bottombars):\n",
    "    print(bar.get_x())\n",
    "    height = bar.get_height()\n",
    "    plt.text(\n",
    "        bar.get_x() + bar.get_width() / 2,\n",
    "        height + 0.015,\n",
    "        text[i],\n",
    "        ha=\"center\",\n",
    "        va=\"bottom\",\n",
    "    )\n",
    "\n",
    "\n",
    "x_center2 = np.mean(ax.get_xlim())\n",
    "plt.text(1.5, 15, \"Bank account baseline\", ha=\"center\", color=[0.25, 0.25, 0.25],alpha = 0.75)\n",
    "# Line\n",
    "plt.plot((-0.49, 3.5), [14, 14], color=[0.25, 0.25, 0.25], linestyle=\"--\",alpha = 0.75)\n",
    "\n",
    "plt.show()\n",
    "\n"
   ]
  },
  {
   "cell_type": "markdown",
   "metadata": {},
   "source": [
    "Gender:"
   ]
  },
  {
   "cell_type": "code",
   "execution_count": null,
   "metadata": {},
   "outputs": [],
   "source": [
    "categories = [\"Female\", \"Male\"]  # X labels\n",
    "labels = [\"Bank account\", \"No bank account\"]  # Not relavant?\n",
    "\n",
    "fig, ax = plt.subplots(figsize=(6, 6))\n",
    "\n",
    "# Create stacked bar chart\n",
    "bottombars = plt.bar(\n",
    "    categories, [10.7, 19], label=labels[0], color=\"#009EDB\", edgecolor=\"#009EDB\"\n",
    ")  # Bottom bars\n",
    "plt.bar(\n",
    "    categories,\n",
    "    [89.3, 81],\n",
    "    label=labels[1],\n",
    "    bottom=[10.7, 19],\n",
    "    color=\"white\",\n",
    "    edgecolor=\"#009EDB\",\n",
    ")  # Top bars, bottom defines where they start,\n",
    "\n",
    "plt.title(\"Bank account ownership based on gender\")\n",
    "\n",
    "\n",
    "# ax.set_xlabel('Cellphone access',weight =\"bold\") # xlabel\n",
    "# ax.set_xticks(x)\n",
    "ax.set_xticklabels(categories)  # x label\n",
    "plt.gca().spines[\"left\"].set_visible(False)  # getting rid of axis lines and box\n",
    "plt.gca().spines[\"right\"].set_visible(False)  # getting rid of axis lines and box\n",
    "plt.gca().spines[\"top\"].set_visible(False)  # getting rid of axis lines and box\n",
    "#plt.gca().spines[\"bottom\"].set_visible(False)  # getting rid of axis lines and box\n",
    "plt.gca().yaxis.set_visible(False)  # getting rid of axis lines and box\n",
    "#plt.tick_params(axis=\"x\", bottom=False)  # Delete axis ticks.\n",
    "\n",
    "# plt.subplots_adjust(bottom=0.2)  # Increase bottom value to create space below x-axis\n",
    "\n",
    "# Position legend horizontally in the space below x-axis\n",
    "# plt.legend(loc='upper center', bbox_to_anchor=(0.5, -0.1), frameon = False, ncol=2)\n",
    "#\n",
    "text = [\"Bank account = 10.7 %\", \"Bank account = 19.0 %\"]  # Write text in plot.\n",
    "for i, bar in enumerate(bottombars):\n",
    "    if i == 0:\n",
    "        height = bar.get_height() + 8.3\n",
    "        plt.text(\n",
    "            bar.get_x() + bar.get_width() / 2,\n",
    "            height + 0.015,\n",
    "            text[i],\n",
    "            ha=\"center\",\n",
    "            va=\"bottom\",\n",
    "        )\n",
    "    else:\n",
    "        height = bar.get_height()\n",
    "        plt.text(\n",
    "            bar.get_x() + bar.get_width() / 2,\n",
    "            height + 0.015,\n",
    "            text[i],\n",
    "            ha=\"center\",\n",
    "            va=\"bottom\",\n",
    "        )\n",
    "\n",
    "\n",
    "x_center = np.mean(ax.get_xlim())\n",
    "plt.text(x_center, 10.5, \"Bank account baseline\", ha=\"center\", color=[0.25, 0.25, 0.25],alpha = 0.75)\n",
    "# Line\n",
    "plt.plot(ax.get_xlim(), [14, 14], color=[0.25, 0.25, 0.25], linestyle=\"--\",alpha=0.75)\n",
    "\n",
    "plt.show()\n",
    "\n"
   ]
  },
  {
   "cell_type": "markdown",
   "metadata": {},
   "source": [
    "Location type:"
   ]
  },
  {
   "cell_type": "code",
   "execution_count": null,
   "metadata": {},
   "outputs": [],
   "source": [
    "categories = [\"Rural\", \"Urban\"]  # X labels\n",
    "labels = [\"Bank account\", \"No bank account\"]  # Not relavant?\n",
    "\n",
    "fig, ax = plt.subplots(figsize=(6, 6))\n",
    "\n",
    "\n",
    "# Create stacked bar chart\n",
    "bottombars = plt.bar(\n",
    "    categories, [11.7, 17.9], label=labels[0], color=\"#009EDB\", edgecolor=\"#009EDB\"\n",
    ")  # Bottom bars\n",
    "plt.bar(\n",
    "    categories,\n",
    "    [88.3, 82.1],\n",
    "    label=labels[1],\n",
    "    bottom=[11.7, 17.9],\n",
    "    color=\"white\",\n",
    "    edgecolor=\"#009EDB\",\n",
    ")  # Top bars, bottom defines where they start,\n",
    "\n",
    "plt.title(\"Bank account ownership based on location type\")\n",
    "\n",
    "\n",
    "# ax.set_xlabel('Cellphone access',weight =\"bold\") # xlabel\n",
    "# ax.set_xticks(x)\n",
    "ax.set_xticklabels(categories)  # x label\n",
    "plt.gca().spines[\"left\"].set_visible(False)  # getting rid of axis lines and box\n",
    "plt.gca().spines[\"right\"].set_visible(False)  # getting rid of axis lines and box\n",
    "plt.gca().spines[\"top\"].set_visible(False)  # getting rid of axis lines and box\n",
    "#plt.gca().spines[\"bottom\"].set_visible(False)  # getting rid of axis lines and box\n",
    "plt.gca().yaxis.set_visible(False)  # getting rid of axis lines and box\n",
    "#plt.tick_params(axis=\"x\", bottom=False)  # Delete axis ticks.\n",
    "\n",
    "# plt.subplots_adjust(bottom=0.2)  # Increase bottom value to create space below x-axis\n",
    "\n",
    "# Position legend horizontally in the space below x-axis\n",
    "# plt.legend(loc='upper center', bbox_to_anchor=(0.5, -0.1), frameon = False, ncol=2)\n",
    "#\n",
    "text = [\"Bank account = 11.7 %\", \"Bank account = 17.9 %\"]  # Write text in plot.\n",
    "for i, bar in enumerate(bottombars):\n",
    "    if i == 0:\n",
    "        height = bar.get_height()  + 6.2\n",
    "        plt.text(\n",
    "            bar.get_x() + bar.get_width() / 2,\n",
    "            height + 0.015,\n",
    "            text[i],\n",
    "            ha=\"center\",\n",
    "            va=\"bottom\")\n",
    "    else:\n",
    "        height = bar.get_height()\n",
    "        plt.text(\n",
    "            bar.get_x() + bar.get_width() / 2,\n",
    "            height + 0.015,\n",
    "            text[i],\n",
    "            ha=\"center\",\n",
    "            va=\"bottom\"\n",
    "    )\n",
    "\n",
    "\n",
    "x_center = np.mean(ax.get_xlim())\n",
    "plt.text(x_center, 10.5, \"Bank account baseline\", ha=\"center\", color=[0.25, 0.25, 0.25],alpha = 0.75)\n",
    "# Line\n",
    "plt.plot(ax.get_xlim(), [14, 14.2], color=[0.25, 0.25, 0.25], linestyle=\"--\",alpha=0.75)\n",
    "\n",
    "plt.show()\n",
    "\n"
   ]
  }
 ],
 "metadata": {
  "kernelspec": {
   "display_name": ".venv",
   "language": "python",
   "name": "python3"
  },
  "language_info": {
   "codemirror_mode": {
    "name": "ipython",
    "version": 3
   },
   "file_extension": ".py",
   "mimetype": "text/x-python",
   "name": "python",
   "nbconvert_exporter": "python",
   "pygments_lexer": "ipython3",
   "version": "3.11.3"
  },
  "orig_nbformat": 4
 },
 "nbformat": 4,
 "nbformat_minor": 2
}
