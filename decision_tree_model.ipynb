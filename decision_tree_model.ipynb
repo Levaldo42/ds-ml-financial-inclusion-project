{
 "cells": [
  {
   "cell_type": "markdown",
   "metadata": {},
   "source": [
    "**Decision tree model**\n"
   ]
  },
  {
   "cell_type": "code",
   "execution_count": 2,
   "metadata": {},
   "outputs": [],
   "source": [
    "# Importing the required packages \n",
    "import numpy as np \n",
    "import pandas as pd \n",
    "from sklearn.metrics import confusion_matrix \n",
    "from sklearn.model_selection import train_test_split \n",
    "from sklearn.tree import DecisionTreeClassifier \n",
    "from sklearn.metrics import accuracy_score \n",
    "from sklearn.metrics import classification_report\n",
    "from sklearn.model_selection import RandomizedSearchCV\n",
    "from scipy.stats import randint"
   ]
  },
  {
   "cell_type": "code",
   "execution_count": 3,
   "metadata": {},
   "outputs": [],
   "source": [
    "# Load data\n",
    "y_test = pd.read_csv(\"data/y_test.csv\")\n",
    "y_train = pd.read_csv(\"data/y_train.csv\")\n",
    "X_test_scaled = pd.read_csv(\"data/X_test_scaled.csv\")\n",
    "X_train_scaled = pd.read_csv(\"data/X_train_scaled.csv\")"
   ]
  },
  {
   "cell_type": "code",
   "execution_count": 4,
   "metadata": {},
   "outputs": [],
   "source": [
    "# Function to perform training with giniIndex. \n",
    "def train_using_gini(X_train, y_train): \n",
    "        \"\"\"_summary_\n",
    "        - trains decision tree classifier with training data, gini criterion, max questions: 3, min samples per leaf: 5\n",
    "        Args:\n",
    "            X_train (_dataframe_): _trainingdata_\n",
    "            y_train (_series_): _target-training-data_\n",
    "\n",
    "        Returns:\n",
    "            _classifier object_: _DecisionTreeClassifier_\n",
    "        \"\"\"\n",
    "    \n",
    "    # Creating the classifier object\n",
    "        clf_gini = DecisionTreeClassifier(\n",
    "            criterion = \"gini\", \n",
    "            max_depth = 2, min_samples_leaf = 9) \n",
    "    # Performing training \n",
    "        clf_gini.fit(X_train, y_train) \n",
    "    \n",
    "\n",
    "        return clf_gini"
   ]
  },
  {
   "cell_type": "code",
   "execution_count": 5,
   "metadata": {},
   "outputs": [],
   "source": [
    "# Function to perform training with entropy. \n",
    "def train_using_entropy(X_train, y_train): \n",
    "    \"\"\"_summary_\n",
    "        - trains decision tree classifier with training data, criterion: entropy (Shannon entropy), max questions: 3, min samples per leaf: 5\n",
    "        https://scikit-learn.org/stable/modules/tree.html#tree-mathematical-formulation\n",
    "        Args:\n",
    "            X_train (_dataframe_): _trainingdata_\n",
    "            y_train (_series_): _target-training-data_\n",
    "\n",
    "        Returns:\n",
    "            _classifier object_: _DecisionTreeClassifier_\n",
    "        \"\"\"\n",
    "  \n",
    "    # Decision tree with entropy \n",
    "    clf_entropy = DecisionTreeClassifier( \n",
    "            criterion = \"entropy\",\n",
    "            max_depth = 2, min_samples_leaf = 9)\n",
    "    # Performing training\n",
    "    clf_entropy.fit(X_train, y_train)\n",
    "    return clf_entropy\n",
    "\n",
    "    "
   ]
  },
  {
   "cell_type": "markdown",
   "metadata": {},
   "source": [
    "# Randomized search / Parameter tuning"
   ]
  },
  {
   "cell_type": "code",
   "execution_count": 6,
   "metadata": {},
   "outputs": [
    {
     "data": {
      "text/html": [
       "<style>#sk-container-id-1 {color: black;background-color: white;}#sk-container-id-1 pre{padding: 0;}#sk-container-id-1 div.sk-toggleable {background-color: white;}#sk-container-id-1 label.sk-toggleable__label {cursor: pointer;display: block;width: 100%;margin-bottom: 0;padding: 0.3em;box-sizing: border-box;text-align: center;}#sk-container-id-1 label.sk-toggleable__label-arrow:before {content: \"▸\";float: left;margin-right: 0.25em;color: #696969;}#sk-container-id-1 label.sk-toggleable__label-arrow:hover:before {color: black;}#sk-container-id-1 div.sk-estimator:hover label.sk-toggleable__label-arrow:before {color: black;}#sk-container-id-1 div.sk-toggleable__content {max-height: 0;max-width: 0;overflow: hidden;text-align: left;background-color: #f0f8ff;}#sk-container-id-1 div.sk-toggleable__content pre {margin: 0.2em;color: black;border-radius: 0.25em;background-color: #f0f8ff;}#sk-container-id-1 input.sk-toggleable__control:checked~div.sk-toggleable__content {max-height: 200px;max-width: 100%;overflow: auto;}#sk-container-id-1 input.sk-toggleable__control:checked~label.sk-toggleable__label-arrow:before {content: \"▾\";}#sk-container-id-1 div.sk-estimator input.sk-toggleable__control:checked~label.sk-toggleable__label {background-color: #d4ebff;}#sk-container-id-1 div.sk-label input.sk-toggleable__control:checked~label.sk-toggleable__label {background-color: #d4ebff;}#sk-container-id-1 input.sk-hidden--visually {border: 0;clip: rect(1px 1px 1px 1px);clip: rect(1px, 1px, 1px, 1px);height: 1px;margin: -1px;overflow: hidden;padding: 0;position: absolute;width: 1px;}#sk-container-id-1 div.sk-estimator {font-family: monospace;background-color: #f0f8ff;border: 1px dotted black;border-radius: 0.25em;box-sizing: border-box;margin-bottom: 0.5em;}#sk-container-id-1 div.sk-estimator:hover {background-color: #d4ebff;}#sk-container-id-1 div.sk-parallel-item::after {content: \"\";width: 100%;border-bottom: 1px solid gray;flex-grow: 1;}#sk-container-id-1 div.sk-label:hover label.sk-toggleable__label {background-color: #d4ebff;}#sk-container-id-1 div.sk-serial::before {content: \"\";position: absolute;border-left: 1px solid gray;box-sizing: border-box;top: 0;bottom: 0;left: 50%;z-index: 0;}#sk-container-id-1 div.sk-serial {display: flex;flex-direction: column;align-items: center;background-color: white;padding-right: 0.2em;padding-left: 0.2em;position: relative;}#sk-container-id-1 div.sk-item {position: relative;z-index: 1;}#sk-container-id-1 div.sk-parallel {display: flex;align-items: stretch;justify-content: center;background-color: white;position: relative;}#sk-container-id-1 div.sk-item::before, #sk-container-id-1 div.sk-parallel-item::before {content: \"\";position: absolute;border-left: 1px solid gray;box-sizing: border-box;top: 0;bottom: 0;left: 50%;z-index: -1;}#sk-container-id-1 div.sk-parallel-item {display: flex;flex-direction: column;z-index: 1;position: relative;background-color: white;}#sk-container-id-1 div.sk-parallel-item:first-child::after {align-self: flex-end;width: 50%;}#sk-container-id-1 div.sk-parallel-item:last-child::after {align-self: flex-start;width: 50%;}#sk-container-id-1 div.sk-parallel-item:only-child::after {width: 0;}#sk-container-id-1 div.sk-dashed-wrapped {border: 1px dashed gray;margin: 0 0.4em 0.5em 0.4em;box-sizing: border-box;padding-bottom: 0.4em;background-color: white;}#sk-container-id-1 div.sk-label label {font-family: monospace;font-weight: bold;display: inline-block;line-height: 1.2em;}#sk-container-id-1 div.sk-label-container {text-align: center;}#sk-container-id-1 div.sk-container {/* jupyter's `normalize.less` sets `[hidden] { display: none; }` but bootstrap.min.css set `[hidden] { display: none !important; }` so we also need the `!important` here to be able to override the default hidden behavior on the sphinx rendered scikit-learn.org. See: https://github.com/scikit-learn/scikit-learn/issues/21755 */display: inline-block !important;position: relative;}#sk-container-id-1 div.sk-text-repr-fallback {display: none;}</style><div id=\"sk-container-id-1\" class=\"sk-top-container\"><div class=\"sk-text-repr-fallback\"><pre>RandomizedSearchCV(cv=5, estimator=DecisionTreeClassifier(random_state=42),\n",
       "                   n_iter=15, n_jobs=-1,\n",
       "                   param_distributions={&#x27;criterion&#x27;: [&#x27;gini&#x27;, &#x27;entropy&#x27;],\n",
       "                                        &#x27;max_depth&#x27;: [2, None],\n",
       "                                        &#x27;max_features&#x27;: &lt;scipy.stats._distn_infrastructure.rv_discrete_frozen object at 0x1662ba6d0&gt;,\n",
       "                                        &#x27;min_samples_leaf&#x27;: &lt;scipy.stats._distn_infrastructure.rv_discrete_frozen object at 0x1662bc1c0&gt;,\n",
       "                                        &#x27;min_samples_split&#x27;: &lt;scipy.stats._distn_infrastructure.rv_discrete_frozen object at 0x1662ba0a0&gt;},\n",
       "                   random_state=42, scoring=&#x27;accuracy&#x27;)</pre><b>In a Jupyter environment, please rerun this cell to show the HTML representation or trust the notebook. <br />On GitHub, the HTML representation is unable to render, please try loading this page with nbviewer.org.</b></div><div class=\"sk-container\" hidden><div class=\"sk-item sk-dashed-wrapped\"><div class=\"sk-label-container\"><div class=\"sk-label sk-toggleable\"><input class=\"sk-toggleable__control sk-hidden--visually\" id=\"sk-estimator-id-1\" type=\"checkbox\" ><label for=\"sk-estimator-id-1\" class=\"sk-toggleable__label sk-toggleable__label-arrow\">RandomizedSearchCV</label><div class=\"sk-toggleable__content\"><pre>RandomizedSearchCV(cv=5, estimator=DecisionTreeClassifier(random_state=42),\n",
       "                   n_iter=15, n_jobs=-1,\n",
       "                   param_distributions={&#x27;criterion&#x27;: [&#x27;gini&#x27;, &#x27;entropy&#x27;],\n",
       "                                        &#x27;max_depth&#x27;: [2, None],\n",
       "                                        &#x27;max_features&#x27;: &lt;scipy.stats._distn_infrastructure.rv_discrete_frozen object at 0x1662ba6d0&gt;,\n",
       "                                        &#x27;min_samples_leaf&#x27;: &lt;scipy.stats._distn_infrastructure.rv_discrete_frozen object at 0x1662bc1c0&gt;,\n",
       "                                        &#x27;min_samples_split&#x27;: &lt;scipy.stats._distn_infrastructure.rv_discrete_frozen object at 0x1662ba0a0&gt;},\n",
       "                   random_state=42, scoring=&#x27;accuracy&#x27;)</pre></div></div></div><div class=\"sk-parallel\"><div class=\"sk-parallel-item\"><div class=\"sk-item\"><div class=\"sk-label-container\"><div class=\"sk-label sk-toggleable\"><input class=\"sk-toggleable__control sk-hidden--visually\" id=\"sk-estimator-id-2\" type=\"checkbox\" ><label for=\"sk-estimator-id-2\" class=\"sk-toggleable__label sk-toggleable__label-arrow\">estimator: DecisionTreeClassifier</label><div class=\"sk-toggleable__content\"><pre>DecisionTreeClassifier(random_state=42)</pre></div></div></div><div class=\"sk-serial\"><div class=\"sk-item\"><div class=\"sk-estimator sk-toggleable\"><input class=\"sk-toggleable__control sk-hidden--visually\" id=\"sk-estimator-id-3\" type=\"checkbox\" ><label for=\"sk-estimator-id-3\" class=\"sk-toggleable__label sk-toggleable__label-arrow\">DecisionTreeClassifier</label><div class=\"sk-toggleable__content\"><pre>DecisionTreeClassifier(random_state=42)</pre></div></div></div></div></div></div></div></div></div></div>"
      ],
      "text/plain": [
       "RandomizedSearchCV(cv=5, estimator=DecisionTreeClassifier(random_state=42),\n",
       "                   n_iter=15, n_jobs=-1,\n",
       "                   param_distributions={'criterion': ['gini', 'entropy'],\n",
       "                                        'max_depth': [2, None],\n",
       "                                        'max_features': <scipy.stats._distn_infrastructure.rv_discrete_frozen object at 0x1662ba6d0>,\n",
       "                                        'min_samples_leaf': <scipy.stats._distn_infrastructure.rv_discrete_frozen object at 0x1662bc1c0>,\n",
       "                                        'min_samples_split': <scipy.stats._distn_infrastructure.rv_discrete_frozen object at 0x1662ba0a0>},\n",
       "                   random_state=42, scoring='accuracy')"
      ]
     },
     "execution_count": 6,
     "metadata": {},
     "output_type": "execute_result"
    }
   ],
   "source": [
    "\n",
    "\n",
    "# param_grid = {\"C\" : [0, 0.1, 0.25, 0.5, 1, 2],\n",
    "#               \"fit_intercept\" : [True, False],\n",
    "#               \"penalty\" : [\"l2\", \"l1\", None,'elasticnet'],\n",
    "#               \"class_weight\" : ['balanced', None],\n",
    "#               \"solver\" : [\"lbfgs\", \"liblinear\", \"newton-cg\", \"newton-cholesky\", \"sag\", \"saga\"],\n",
    "#               \"l1_ratio\" : [0.1,0.25,0.5,0.75,0.9]\n",
    "#              }\n",
    "\n",
    "param_grid = {\"max_depth\": [2, None],\n",
    "              \"max_features\": randint(1, 9),\n",
    "              \"min_samples_leaf\": randint(1, 9),\n",
    "              \"min_samples_split\": randint(1,100),\n",
    "              \"criterion\": [\"gini\", \"entropy\"]}\n",
    "\n",
    "rs = RandomizedSearchCV(DecisionTreeClassifier(random_state=42), param_grid, scoring='accuracy',\n",
    "                  cv=5, verbose=0, n_jobs=-1, n_iter=15, random_state=42)\n",
    "\n",
    "#rs.fit(X_train_scaled, y_train)\n",
    "\n",
    "rs.fit(X_test_scaled, y_test)"
   ]
  },
  {
   "cell_type": "code",
   "execution_count": 7,
   "metadata": {},
   "outputs": [
    {
     "name": "stdout",
     "output_type": "stream",
     "text": [
      "0.8852040816326531\n"
     ]
    }
   ],
   "source": [
    "y_pred_rs = rs.predict(X_test_scaled)\n",
    "print(accuracy_score(y_test, y_pred_rs))"
   ]
  },
  {
   "cell_type": "code",
   "execution_count": 8,
   "metadata": {},
   "outputs": [
    {
     "name": "stdout",
     "output_type": "stream",
     "text": [
      "Best score: 0.878\n",
      "[[4901  151]\n",
      " [ 524  304]]\n",
      "              precision    recall  f1-score   support\n",
      "\n",
      "         0.0       0.90      0.97      0.94      5052\n",
      "         1.0       0.67      0.37      0.47       828\n",
      "\n",
      "    accuracy                           0.89      5880\n",
      "   macro avg       0.79      0.67      0.70      5880\n",
      "weighted avg       0.87      0.89      0.87      5880\n",
      "\n",
      "0.8852040816326531\n"
     ]
    },
    {
     "name": "stderr",
     "output_type": "stream",
     "text": [
      "/Users/fisch/neuefische/ds-ml-financial-inclusion-project/.venv/lib/python3.9/site-packages/sklearn/base.py:439: UserWarning: X does not have valid feature names, but DecisionTreeClassifier was fitted with feature names\n",
      "  warnings.warn(\n"
     ]
    }
   ],
   "source": [
    "print('Best score:', round(rs.best_score_, 3))\n",
    "\n",
    "y_pred_rs = rs.predict(X_test_scaled.to_numpy())\n",
    "\n",
    "print(confusion_matrix(y_test, y_pred_rs))\n",
    "print(classification_report(y_test, y_pred_rs))\n",
    "print(accuracy_score(y_test, y_pred_rs))"
   ]
  },
  {
   "cell_type": "code",
   "execution_count": 9,
   "metadata": {},
   "outputs": [
    {
     "name": "stdout",
     "output_type": "stream",
     "text": [
      "Tuned Decision Tree Parameters: {'criterion': 'entropy', 'max_depth': None, 'max_features': 6, 'min_samples_leaf': 2, 'min_samples_split': 64}\n",
      "Best score is 0.8778911564625851\n"
     ]
    }
   ],
   "source": [
    "print(\"Tuned Decision Tree Parameters: {}\".format(rs.best_params_))\n",
    "print(\"Best score is {}\".format(rs.best_score_))"
   ]
  },
  {
   "cell_type": "markdown",
   "metadata": {},
   "source": [
    "# Predicting"
   ]
  },
  {
   "cell_type": "code",
   "execution_count": 10,
   "metadata": {},
   "outputs": [],
   "source": [
    "# Function to make predictions \n",
    "def prediction(X_test, clf_object): \n",
    "    \"\"\"_summary_\n",
    "\n",
    "    Args:\n",
    "        X_test (_dataframe_): _features_\n",
    "        clf_object (_trained classification object_): __\n",
    "\n",
    "    Returns:\n",
    "        _series_: _predicted target values_\n",
    "    \"\"\"\n",
    "  \n",
    "    # Prediction on test \n",
    "    y_pred = clf_object.predict(X_test.to_numpy()) # transform it into a numpy array\n",
    "    print(\"Predicted values:\\n\") \n",
    "    print(y_pred) \n",
    "    return y_pred "
   ]
  },
  {
   "cell_type": "markdown",
   "metadata": {},
   "source": [
    "# Measuring"
   ]
  },
  {
   "cell_type": "code",
   "execution_count": 11,
   "metadata": {},
   "outputs": [],
   "source": [
    "# Function to calculate accuracy \n",
    "def cal_accuracy(y_test, y_pred): \n",
    "    \"\"\"_summary_\n",
    "    prints: convfusion matrix, accuracy score, classification report\n",
    "    Args:\n",
    "        y_test (_series_): _true target values_\n",
    "        y_pred (_series_): _target values_\n",
    "    \"\"\"\n",
    "    \n",
    "    print(\"-----\"*15)\n",
    "    print(\"Confusion Matrix: \\n\", \n",
    "        confusion_matrix(y_test, y_pred)) \n",
    "    \n",
    "    print(\"-----\"*15)\n",
    "    print (\"Accuracy : \\n\", \n",
    "    accuracy_score(y_test, y_pred) * 100) \n",
    "    \n",
    "    print(\"-----\"*15)\n",
    "    print(\"Report : \\n\", \n",
    "    classification_report(y_test, y_pred)) "
   ]
  },
  {
   "cell_type": "code",
   "execution_count": 12,
   "metadata": {},
   "outputs": [],
   "source": [
    "# Driver code \n",
    "def main(): \n",
    "    \"\"\"\n",
    "    runs following functions in order:\n",
    "    importdata()\n",
    "    splitdataset()\n",
    "    trainusinggini\n",
    "    trainusingentropy\n",
    "    predictionfunction using gini model\n",
    "    predictionfunction using entropy model\n",
    "    cal_accuracy(): - gini\n",
    "                    - entropy\n",
    "    \"\"\"\n",
    "      \n",
    "    # Building Phase \n",
    "    #data = importdata() \n",
    "    #X, Y, X_train, X_test, y_train, y_test = splitdataset(data) \n",
    "    clf_gini = train_using_gini(X_train_scaled, y_train) \n",
    "    clf_entropy = train_using_entropy(X_train_scaled, y_train) \n",
    "      \n",
    "    # Operational Phase \n",
    "    print(\"-----\"*15)\n",
    "    print(\"Results Using Gini Index:\\n\") \n",
    "      \n",
    "    # Prediction using gini \n",
    "    y_pred_gini = prediction(X_test_scaled, clf_gini) \n",
    "    cal_accuracy(y_test, y_pred_gini) \n",
    "    \n",
    "    print(\"-----\"*15)\n",
    "    print(\"Results Using Entropy:\\n\") \n",
    "    # Prediction using entropy \n",
    "    y_pred_entropy = prediction(X_test_scaled, clf_entropy) \n",
    "    cal_accuracy(y_test, y_pred_entropy)"
   ]
  },
  {
   "cell_type": "code",
   "execution_count": 13,
   "metadata": {},
   "outputs": [
    {
     "name": "stdout",
     "output_type": "stream",
     "text": [
      "---------------------------------------------------------------------------\n",
      "Results Using Gini Index:\n",
      "\n",
      "Predicted values:\n",
      "\n",
      "[0. 0. 0. ... 0. 0. 0.]\n",
      "---------------------------------------------------------------------------\n",
      "Confusion Matrix: \n",
      " [[4961   91]\n",
      " [ 625  203]]\n",
      "---------------------------------------------------------------------------\n",
      "Accuracy : \n",
      " 87.82312925170068\n",
      "---------------------------------------------------------------------------\n",
      "Report : \n",
      "               precision    recall  f1-score   support\n",
      "\n",
      "         0.0       0.89      0.98      0.93      5052\n",
      "         1.0       0.69      0.25      0.36       828\n",
      "\n",
      "    accuracy                           0.88      5880\n",
      "   macro avg       0.79      0.61      0.65      5880\n",
      "weighted avg       0.86      0.88      0.85      5880\n",
      "\n",
      "---------------------------------------------------------------------------\n",
      "Results Using Entropy:\n",
      "\n",
      "Predicted values:\n",
      "\n",
      "[0. 0. 0. ... 0. 0. 0.]\n",
      "---------------------------------------------------------------------------\n",
      "Confusion Matrix: \n",
      " [[4941  111]\n",
      " [ 687  141]]\n",
      "---------------------------------------------------------------------------\n",
      "Accuracy : \n",
      " 86.42857142857143\n",
      "---------------------------------------------------------------------------\n",
      "Report : \n",
      "               precision    recall  f1-score   support\n",
      "\n",
      "         0.0       0.88      0.98      0.93      5052\n",
      "         1.0       0.56      0.17      0.26       828\n",
      "\n",
      "    accuracy                           0.86      5880\n",
      "   macro avg       0.72      0.57      0.59      5880\n",
      "weighted avg       0.83      0.86      0.83      5880\n",
      "\n"
     ]
    },
    {
     "name": "stderr",
     "output_type": "stream",
     "text": [
      "/Users/fisch/neuefische/ds-ml-financial-inclusion-project/.venv/lib/python3.9/site-packages/sklearn/base.py:439: UserWarning: X does not have valid feature names, but DecisionTreeClassifier was fitted with feature names\n",
      "  warnings.warn(\n",
      "/Users/fisch/neuefische/ds-ml-financial-inclusion-project/.venv/lib/python3.9/site-packages/sklearn/base.py:439: UserWarning: X does not have valid feature names, but DecisionTreeClassifier was fitted with feature names\n",
      "  warnings.warn(\n"
     ]
    }
   ],
   "source": [
    "# Calling main function \n",
    "if __name__ == \"__main__\": \n",
    "    main() "
   ]
  }
 ],
 "metadata": {
  "kernelspec": {
   "display_name": ".venv",
   "language": "python",
   "name": "python3"
  },
  "language_info": {
   "codemirror_mode": {
    "name": "ipython",
    "version": 3
   },
   "file_extension": ".py",
   "mimetype": "text/x-python",
   "name": "python",
   "nbconvert_exporter": "python",
   "pygments_lexer": "ipython3",
   "version": "3.9.8"
  },
  "orig_nbformat": 4
 },
 "nbformat": 4,
 "nbformat_minor": 2
}
